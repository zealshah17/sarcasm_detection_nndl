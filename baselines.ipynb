{
 "cells": [
  {
   "cell_type": "markdown",
   "metadata": {},
   "source": [
    "**Baseline Model - 1**\n",
    "\n",
    "MODEL: Logistic Regression with TF- IDF"
   ]
  },
  {
   "cell_type": "code",
   "execution_count": 1,
   "metadata": {},
   "outputs": [
    {
     "name": "stdout",
     "output_type": "stream",
     "text": [
      "Logistic Regression (TF-IDF) | Accuracy: 0.7030 | F1 Score: 0.7021\n"
     ]
    },
    {
     "name": "stderr",
     "output_type": "stream",
     "text": [
      "/var/folders/lv/xd91rcv91cq23cjjl0_c93nh0000gn/T/ipykernel_84805/4223606387.py:23: DeprecationWarning: DataFrameGroupBy.apply operated on the grouping columns. This behavior is deprecated, and in a future version of pandas the grouping columns will be excluded from the operation. Either pass `include_groups=False` to exclude the groupings or explicitly select the grouping columns after groupby to silence this warning.\n",
      "  return df.groupby(\"label\").apply(lambda x: x.sample(n=min(n, len(x)), random_state=42)).reset_index(drop=True)\n"
     ]
    }
   ],
   "source": [
    "from sklearn.feature_extraction.text import TfidfVectorizer\n",
    "from sklearn.linear_model import LogisticRegression\n",
    "from sklearn.metrics import accuracy_score, f1_score\n",
    "from sklearn.model_selection import train_test_split\n",
    "import pandas as pd\n",
    "\n",
    "# === CONFIG ===\n",
    "DATA_PATH = \"multilang_sarcasm_dataset.csv\"\n",
    "N_SHOT = 64\n",
    "MAX_TEST_SAMPLES = 1000\n",
    "\n",
    "# === LOAD & PREPROCESS ===\n",
    "df = pd.read_csv(DATA_PATH)\n",
    "df = df[df[\"lang\"] == \"en\"]\n",
    "df = df[[\"article_title\", \"is_sarcastic\"]].rename(columns={\"article_title\": \"text\", \"is_sarcastic\": \"label\"})\n",
    "df = df.dropna(subset=[\"text\", \"label\"])\n",
    "\n",
    "# === TRAIN/TEST SPLIT ===\n",
    "train_df, test_df = train_test_split(df, test_size=0.2, stratify=df[\"label\"], random_state=42)\n",
    "\n",
    "# === FEW-SHOT SAMPLING ===\n",
    "def sample_few_shot(df, n=64):\n",
    "    return df.groupby(\"label\").apply(lambda x: x.sample(n=min(n, len(x)), random_state=42)).reset_index(drop=True)\n",
    "\n",
    "fewshot_train_df = sample_few_shot(train_df, N_SHOT)\n",
    "test_subset_df = test_df.sample(n=min(len(test_df), MAX_TEST_SAMPLES), random_state=42)\n",
    "\n",
    "# === TF-IDF + LOGISTIC REGRESSION ===\n",
    "X_train = fewshot_train_df[\"text\"]\n",
    "y_train = fewshot_train_df[\"label\"]\n",
    "X_test = test_subset_df[\"text\"]\n",
    "y_test = test_subset_df[\"label\"]\n",
    "\n",
    "# TF-IDF vectorization\n",
    "vectorizer = TfidfVectorizer(ngram_range=(1, 2), max_features=5000)\n",
    "X_train_tfidf = vectorizer.fit_transform(X_train)\n",
    "X_test_tfidf = vectorizer.transform(X_test)\n",
    "\n",
    "# Logistic Regression classifier\n",
    "lr = LogisticRegression(max_iter=1000)\n",
    "lr.fit(X_train_tfidf, y_train)\n",
    "y_pred_lr = lr.predict(X_test_tfidf)\n",
    "\n",
    "# Evaluation\n",
    "acc = accuracy_score(y_test, y_pred_lr)\n",
    "f1 = f1_score(y_test, y_pred_lr)\n",
    "\n",
    "print(f\"Logistic Regression (TF-IDF) | Accuracy: {acc:.4f} | F1 Score: {f1:.4f}\")\n",
    "\n"
   ]
  },
  {
   "cell_type": "markdown",
   "metadata": {},
   "source": [
    "**Baseline Model - 2**\n",
    "\n",
    "MODEL: Zero- Shot Classification"
   ]
  },
  {
   "cell_type": "code",
   "execution_count": 2,
   "metadata": {},
   "outputs": [
    {
     "name": "stderr",
     "output_type": "stream",
     "text": [
      "/Library/Frameworks/Python.framework/Versions/3.12/lib/python3.12/site-packages/tqdm/auto.py:21: TqdmWarning: IProgress not found. Please update jupyter and ipywidgets. See https://ipywidgets.readthedocs.io/en/stable/user_install.html\n",
      "  from .autonotebook import tqdm as notebook_tqdm\n",
      "Xet Storage is enabled for this repo, but the 'hf_xet' package is not installed. Falling back to regular HTTP download. For better performance, install the package with: `pip install huggingface_hub[hf_xet]` or `pip install hf_xet`\n",
      "Device set to use mps:0\n"
     ]
    },
    {
     "name": "stdout",
     "output_type": "stream",
     "text": [
      " Zero-Shot (BART-MNLI) | Accuracy: 0.5350 | F1 Score: 0.1622\n"
     ]
    }
   ],
   "source": [
    "#Baseline 2: Zero-Shot Classification with BART-MNLI\n",
    "\n",
    "from transformers import pipeline\n",
    "from sklearn.model_selection import train_test_split\n",
    "from sklearn.metrics import accuracy_score, f1_score\n",
    "import pandas as pd\n",
    "\n",
    "# === CONFIG ===\n",
    "DATA_PATH = \"multilang_sarcasm_dataset.csv\"\n",
    "MAX_TEST_SAMPLES = 1000\n",
    "EVAL_SIZE = 200  # limit for speed\n",
    "\n",
    "# === LOAD & PREPROCESS ===\n",
    "df = pd.read_csv(DATA_PATH)\n",
    "df = df[df[\"lang\"] == \"en\"]\n",
    "df = df[[\"article_title\", \"is_sarcastic\"]].rename(columns={\"article_title\": \"text\", \"is_sarcastic\": \"label\"})\n",
    "df = df.dropna(subset=[\"text\", \"label\"])\n",
    "\n",
    "# === TRAIN/TEST SPLIT === (note: train not needed for zero-shot)\n",
    "_, test_df = train_test_split(df, test_size=0.2, stratify=df[\"label\"], random_state=42)\n",
    "test_subset_df = test_df.sample(n=min(len(test_df), MAX_TEST_SAMPLES), random_state=42)\n",
    "\n",
    "# === ZERO-SHOT CLASSIFICATION ===\n",
    "from transformers import pipeline\n",
    "\n",
    "# Load model\n",
    "classifier = pipeline(\"zero-shot-classification\", model=\"facebook/bart-large-mnli\")\n",
    "\n",
    "# Labels for binary classification\n",
    "candidate_labels = [\"sarcastic\", \"not sarcastic\"]\n",
    "\n",
    "# Prepare subset for faster evaluation\n",
    "texts = test_subset_df[\"text\"].tolist()[:EVAL_SIZE]\n",
    "true_labels = test_subset_df[\"label\"].tolist()[:EVAL_SIZE]\n",
    "\n",
    "# Predict\n",
    "preds = []\n",
    "for text in texts:\n",
    "    result = classifier(text, candidate_labels)\n",
    "    pred_label = result[\"labels\"][0]\n",
    "    pred = 1 if pred_label == \"sarcastic\" else 0\n",
    "    preds.append(pred)\n",
    "\n",
    "# Evaluation\n",
    "acc = accuracy_score(true_labels, preds)\n",
    "f1 = f1_score(true_labels, preds)\n",
    "\n",
    "print(f\" Zero-Shot (BART-MNLI) | Accuracy: {acc:.4f} | F1 Score: {f1:.4f}\")\n"
   ]
  }
 ],
 "metadata": {
  "kernelspec": {
   "display_name": "Python 3",
   "language": "python",
   "name": "python3"
  },
  "language_info": {
   "codemirror_mode": {
    "name": "ipython",
    "version": 3
   },
   "file_extension": ".py",
   "mimetype": "text/x-python",
   "name": "python",
   "nbconvert_exporter": "python",
   "pygments_lexer": "ipython3",
   "version": "3.12.6"
  }
 },
 "nbformat": 4,
 "nbformat_minor": 2
}
